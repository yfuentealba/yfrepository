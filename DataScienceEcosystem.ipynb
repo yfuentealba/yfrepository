{
 "cells": [
  {
   "cell_type": "markdown",
   "id": "bc123307",
   "metadata": {},
   "source": [
    "# Data Science Tools and Ecosystem"
   ]
  },
  {
   "cell_type": "markdown",
   "id": "b047d9c0",
   "metadata": {},
   "source": [
    "# In this notebook, Data Science Tools and Ecosystem are summarized."
   ]
  },
  {
   "cell_type": "markdown",
   "id": "6800bd48",
   "metadata": {},
   "source": [
    "**Objetives:**\n",
    "1. Create Markdown cells in Jupyter Notebooks\n",
    "2. Create Markdown cells with tables\n",
    "3. Perform arithmetic expressions\n",
    "    "
   ]
  },
  {
   "cell_type": "markdown",
   "id": "f3c2fbd3",
   "metadata": {},
   "source": [
    "# Some of the popular languages that Data Scientists use are:\n",
    "1. Python\n",
    "2. R\n",
    "3. SQL\n",
    "4. SCALA\n",
    "5. Java\n",
    "6. C++\n",
    "7. Julia\n"
   ]
  },
  {
   "cell_type": "markdown",
   "id": "95d1e90b",
   "metadata": {},
   "source": [
    "# Some of the commonly used libraries used by Data Scientists include:\n",
    "1. Python libraries like Matplotlib, Scikit-learn, Keras, etc.\n",
    "2. Scala libraries like vegas or Big DL\n",
    "3. R libraries like ggplot2"
   ]
  },
  {
   "cell_type": "markdown",
   "id": "d14d7764",
   "metadata": {},
   "source": [
    "|Data Science Tools|\n",
    "|------------------|\n",
    "|Jupyter Notebook |\n",
    "|Pandas |\n",
    "|Scikit-learn|\n"
   ]
  },
  {
   "cell_type": "markdown",
   "id": "755524a4",
   "metadata": {},
   "source": [
    "### Below are a few examples of evaluating arithmetic expressions in Python"
   ]
  },
  {
   "cell_type": "code",
   "execution_count": 11,
   "id": "985db2f0",
   "metadata": {},
   "outputs": [
    {
     "data": {
      "text/plain": [
       "17"
      ]
     },
     "execution_count": 11,
     "metadata": {},
     "output_type": "execute_result"
    }
   ],
   "source": [
    "#This a simple arithmetic expression to mutiply then add integers\n",
    "(3*4)+5"
   ]
  },
  {
   "cell_type": "code",
   "execution_count": 12,
   "id": "be31a93d",
   "metadata": {},
   "outputs": [
    {
     "data": {
      "text/plain": [
       "3.3333333333333335"
      ]
     },
     "execution_count": 12,
     "metadata": {},
     "output_type": "execute_result"
    }
   ],
   "source": [
    "#This will convert 200 minutes to hours by diving by 60\n",
    "200/60"
   ]
  },
  {
   "cell_type": "markdown",
   "id": "4be6d7f8",
   "metadata": {},
   "source": [
    "## Autor\n",
    "Yonathan Fuentealba C."
   ]
  },
  {
   "cell_type": "code",
   "execution_count": null,
   "id": "4f10e28e",
   "metadata": {},
   "outputs": [],
   "source": []
  }
 ],
 "metadata": {
  "kernelspec": {
   "display_name": "Python 3 (ipykernel)",
   "language": "python",
   "name": "python3"
  },
  "language_info": {
   "codemirror_mode": {
    "name": "ipython",
    "version": 3
   },
   "file_extension": ".py",
   "mimetype": "text/x-python",
   "name": "python",
   "nbconvert_exporter": "python",
   "pygments_lexer": "ipython3",
   "version": "3.10.9"
  }
 },
 "nbformat": 4,
 "nbformat_minor": 5
}
